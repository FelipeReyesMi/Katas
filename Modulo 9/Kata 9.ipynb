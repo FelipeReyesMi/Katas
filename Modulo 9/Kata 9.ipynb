{
 "cells": [
  {
   "cell_type": "markdown",
   "metadata": {},
   "source": [
    "# Ejercicio: Uso de funciones en Python\n",
    "Ejercicio 1: Trabajar con argumentos en funciones\n",
    "\n",
    "En este ejercicio, construirás un informe de combustible que requiere información de varias ubicaciones de combustible en todo el cohete."
   ]
  },
  {
   "cell_type": "markdown",
   "metadata": {},
   "source": [
    "Comienza por crear una función que necesite tres lecturas de combustible y devuelva un informe:"
   ]
  },
  {
   "cell_type": "code",
   "execution_count": 18,
   "metadata": {},
   "outputs": [],
   "source": [
    "def lectura_combust(combusT1,combusT2,combusT3):\n",
    "    informe = (combusT1 + combusT2 + combusT3) / 3\n",
    "    return f\"\"\"Lesturas del combustible de la nave\n",
    "    TANQUE 1:{combusT1} %\n",
    "    TANQUE 2:{combusT2} %\n",
    "    TANQUE 3: {combusT3}%\"\"\""
   ]
  },
  {
   "cell_type": "markdown",
   "metadata": {},
   "source": [
    "Ahora que hemos definido la función de informes, vamos a comprobarlo. Para esta misión, los tanques no están llenos:"
   ]
  },
  {
   "cell_type": "code",
   "execution_count": 24,
   "metadata": {},
   "outputs": [
    {
     "name": "stdout",
     "output_type": "stream",
     "text": [
      "Lesturas del combustible de la nave\n",
      "    TANQUE 1:18 %\n",
      "    TANQUE 2:78 %\n",
      "    TANQUE 3: 42 %\n",
      "    PROMEDIO DEL COMBUSTIBLE QUE HAY EN LA NAVE: 46.0 %\n"
     ]
    }
   ],
   "source": [
    "tanqueA= 18\n",
    "tanqueB=78\n",
    "tanqueC=42\n",
    "print(lectura_combust(tanqueA,tanqueB,tanqueC))"
   ]
  },
  {
   "cell_type": "markdown",
   "metadata": {},
   "source": [
    "En lugar de simplemente crear el informe, la función también está calculando el promedio. Mejora la legibilidad extrayendo el cálculo promedio de la función en una nueva función para que el promedio se pueda hacer de forma independiente:"
   ]
  },
  {
   "cell_type": "code",
   "execution_count": 20,
   "metadata": {},
   "outputs": [],
   "source": [
    "def promedio(valores):\n",
    "    suma = sum(valores)\n",
    "    numeroValores = len(valores)\n",
    "    return suma / numeroValores"
   ]
  },
  {
   "cell_type": "markdown",
   "metadata": {},
   "source": [
    "Ahora actualiza la función de informes para llamando a la nueva función del promedio:"
   ]
  },
  {
   "cell_type": "code",
   "execution_count": 25,
   "metadata": {},
   "outputs": [
    {
     "name": "stdout",
     "output_type": "stream",
     "text": [
      "Lesturas del combustible de la nave\n",
      "    TANQUE 1:18 %\n",
      "    TANQUE 2:78 %\n",
      "    TANQUE 3: 42 %\n",
      "    PROMEDIO DEL COMBUSTIBLE QUE HAY EN LA NAVE: 46.0 %\n"
     ]
    }
   ],
   "source": [
    "def lectura_combust(combusT1,combusT2,combusT3):\n",
    "    return f\"\"\"Lesturas del combustible de la nave\n",
    "    TANQUE 1:{combusT1} %\n",
    "    TANQUE 2:{combusT2} %\n",
    "    TANQUE 3: {combusT3} %\n",
    "    PROMEDIO DEL COMBUSTIBLE QUE HAY EN LA NAVE: {promedio([combusT1,combusT2,combusT3])} %\"\"\"\n",
    "\n",
    "print(lectura_combust(tanqueA,tanqueB,tanqueC))"
   ]
  },
  {
   "cell_type": "markdown",
   "metadata": {},
   "source": [
    "# Ejercicio 2: Trabajo con argumentos de palabra clave\n",
    "\n",
    "En este ejercicio, construirás un informe de cohete que requiere varias piezas de información, como el tiempo hasta el destino, el combustible a la izquierda y el nombre del destino. Comienza por crear una función que creará un informe preciso de la misión:"
   ]
  },
  {
   "cell_type": "code",
   "execution_count": 28,
   "metadata": {},
   "outputs": [
    {
     "name": "stdout",
     "output_type": "stream",
     "text": [
      "\n",
      "    El Destino a la mision es el planeta: Marte\n",
      "    El tiempo del viaje sera de : 6265897 Horas\n",
      "    El total de combustible que tienen es de : 8000000 litros\n",
      "    \n"
     ]
    }
   ],
   "source": [
    "def informe_cohete(tiempo_destino, combust_izq, nomb_dest):\n",
    "    return f\"\"\"\n",
    "    El Destino a la mision es el planeta: {nomb_dest}\n",
    "    El tiempo del viaje sera de : {tiempo_destino} Horas\n",
    "    El total de combustible que tienen es de : {combust_izq} litros\n",
    "    \"\"\"\n",
    "\n",
    "print(informe_cohete(6265897, 8000000,\"Marte\"))"
   ]
  },
  {
   "cell_type": "markdown",
   "metadata": {},
   "source": [
    "La función es problemática porque no se puede adaptar para minutos adicionales o tanques adicionales de combustible. Hazlo más flexible permitiendo cualquier número de pasos basados en el tiempo y cualquier número de tanques. En lugar de usar *args y **kwargs, aprovecha el hecho de que puedes usar cualquier nombre que desees. Asegurate que la función sea más legible mediante el uso de nombres de variables que están asociados con las entradas, como *minutes y **fuel_reservoirs:"
   ]
  },
  {
   "cell_type": "code",
   "execution_count": 31,
   "metadata": {},
   "outputs": [
    {
     "name": "stdout",
     "output_type": "stream",
     "text": [
      "\n",
      "    El Destino a la mision es el planeta: Marte\n",
      "    El tiempo del viaje sera de : 76 Minutos\n",
      "    El total de combustible que tienen es de : 8000000\n",
      "    \n"
     ]
    }
   ],
   "source": [
    "def informe_cohete(nomb_dest,*tiempo_destino, **combust_izq):\n",
    "    return f\"\"\"\n",
    "    El Destino a la mision es el planeta: {nomb_dest}\n",
    "    El tiempo del viaje sera de : {sum(tiempo_destino)} Minutos\n",
    "    El total de combustible que tienen es de : {sum(combust_izq.values())}\n",
    "    \"\"\"\n",
    "\n",
    "print(informe_cohete(\"Marte\",10, 15, 51, Etapa1=5000000, Etapa2=3000000))"
   ]
  },
  {
   "cell_type": "markdown",
   "metadata": {},
   "source": [
    "Debido a que el combustible que queda en los tanques es específico de cada tanque, actualiza la función para usar el nombre de cada tanque en el informe:"
   ]
  },
  {
   "cell_type": "code",
   "execution_count": 44,
   "metadata": {},
   "outputs": [
    {
     "name": "stdout",
     "output_type": "stream",
     "text": [
      "\n",
      "    El Destino a la mision es el planeta: Marte\n",
      "    El tiempo del viaje sera de : 76 Minutos\n",
      "    El total de combustible que tienen es de : 8000000\n",
      "    Etapa1 tank: 5000000 litros\n",
      "Etapa2 tank: 3000000 litros\n",
      "\n"
     ]
    }
   ],
   "source": [
    "def informe_cohete(nomb_dest,*tiempo_destino, **combust_izq):\n",
    "    reporte_tanq = f\"\"\"\n",
    "    El Destino a la mision es el planeta: {nomb_dest}\n",
    "    El tiempo del viaje sera de : {sum(tiempo_destino)} Minutos\n",
    "    El total de combustible que tienen es de : {sum(combust_izq.values())}\n",
    "    \"\"\"\n",
    "    for tanque, litros in combust_izq.items():\n",
    "        reporte_tanq += f\"{tanque} tank: {litros} litros\\n\"\n",
    "    return reporte_tanq\n",
    "\n",
    "print(informe_cohete(\"Marte\",10, 15, 51, Etapa1=5000000, Etapa2=3000000))"
   ]
  }
 ],
 "metadata": {
  "interpreter": {
   "hash": "9efce205f64ad363cd9f14615485aca38ee4ef0915866e318aa83c8d0c93f6fc"
  },
  "kernelspec": {
   "display_name": "Python 3.10.2 64-bit",
   "language": "python",
   "name": "python3"
  },
  "language_info": {
   "codemirror_mode": {
    "name": "ipython",
    "version": 3
   },
   "file_extension": ".py",
   "mimetype": "text/x-python",
   "name": "python",
   "nbconvert_exporter": "python",
   "pygments_lexer": "ipython3",
   "version": "3.10.2"
  },
  "orig_nbformat": 4
 },
 "nbformat": 4,
 "nbformat_minor": 2
}
